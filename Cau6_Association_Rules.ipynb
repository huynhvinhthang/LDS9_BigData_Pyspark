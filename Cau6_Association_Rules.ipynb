{
 "cells": [
  {
   "cell_type": "markdown",
   "id": "1e2c6bec",
   "metadata": {},
   "source": [
    "## Business Understanding"
   ]
  },
  {
   "cell_type": "markdown",
   "id": "2d8b288f",
   "metadata": {},
   "source": [
    "- Goal: Build model to identify sets of items that are frequently bought together."
   ]
  },
  {
   "cell_type": "markdown",
   "id": "edc4ae3a",
   "metadata": {},
   "source": [
    "## Set Environment"
   ]
  },
  {
   "cell_type": "code",
   "execution_count": 1,
   "id": "4914fdb8",
   "metadata": {},
   "outputs": [],
   "source": [
    "import findspark\n",
    "findspark.init()"
   ]
  },
  {
   "cell_type": "code",
   "execution_count": 2,
   "id": "738562eb",
   "metadata": {},
   "outputs": [],
   "source": [
    "import pandas as pd\n",
    "import numpy as np\n",
    "\n",
    "from pyspark import SparkContext\n",
    "from pyspark import SparkConf\n",
    "from pyspark.sql import SparkSession\n",
    "\n",
    "from pyspark.sql.functions import *\n",
    "from pyspark.ml.evaluation import RegressionEvaluator\n",
    "from pyspark.ml.recommendation import ALS\n",
    "from pyspark.ml.fpm import FPGrowth\n",
    "from pyspark.ml.feature import StringIndexer\n",
    "from pyspark.ml import Pipeline"
   ]
  },
  {
   "cell_type": "code",
   "execution_count": 3,
   "id": "943d8de2",
   "metadata": {},
   "outputs": [],
   "source": [
    "spark = SparkSession.builder.appName('goods').getOrCreate()"
   ]
  },
  {
   "cell_type": "markdown",
   "id": "01468d94",
   "metadata": {},
   "source": [
    "## Loading Dataset"
   ]
  },
  {
   "cell_type": "code",
   "execution_count": 4,
   "id": "c22f21b6",
   "metadata": {},
   "outputs": [],
   "source": [
    "data = spark.read.csv('75000/75000i.csv', header = False, inferSchema = True)"
   ]
  },
  {
   "cell_type": "code",
   "execution_count": 5,
   "id": "f20de9bd",
   "metadata": {},
   "outputs": [
    {
     "name": "stdout",
     "output_type": "stream",
     "text": [
      "root\n",
      " |-- _c0: integer (nullable = true)\n",
      " |-- _c1: integer (nullable = true)\n",
      " |-- _c2: integer (nullable = true)\n",
      "\n"
     ]
    }
   ],
   "source": [
    "data.printSchema()"
   ]
  },
  {
   "cell_type": "code",
   "execution_count": 6,
   "id": "c7ba7cfb",
   "metadata": {},
   "outputs": [
    {
     "name": "stdout",
     "output_type": "stream",
     "text": [
      "Total rows of dataset: 266209\n"
     ]
    }
   ],
   "source": [
    "print('Total rows of dataset:', data.count())"
   ]
  },
  {
   "cell_type": "code",
   "execution_count": 7,
   "id": "759d9767",
   "metadata": {},
   "outputs": [],
   "source": [
    "#rename the data\n",
    "data = data.withColumnRenamed('_c0', 'receipt_id').withColumnRenamed('_c1', 'quantity').withColumnRenamed('_c2', 'product_id')"
   ]
  },
  {
   "cell_type": "code",
   "execution_count": 8,
   "id": "5fc3cdb0",
   "metadata": {},
   "outputs": [
    {
     "name": "stdout",
     "output_type": "stream",
     "text": [
      "+----------+--------+----------+\n",
      "|receipt_id|quantity|product_id|\n",
      "+----------+--------+----------+\n",
      "|1         |1       |21        |\n",
      "|1         |5       |11        |\n",
      "|2         |1       |7         |\n",
      "|2         |3       |11        |\n",
      "|2         |4       |37        |\n",
      "|2         |3       |45        |\n",
      "|3         |5       |3         |\n",
      "|3         |3       |42        |\n",
      "|3         |3       |33        |\n",
      "|4         |1       |5         |\n",
      "+----------+--------+----------+\n",
      "only showing top 10 rows\n",
      "\n"
     ]
    }
   ],
   "source": [
    "data.show(10, truncate = False)"
   ]
  },
  {
   "cell_type": "markdown",
   "id": "369fae48",
   "metadata": {},
   "source": [
    "## Data Understanding"
   ]
  },
  {
   "cell_type": "markdown",
   "id": "71e794fb",
   "metadata": {},
   "source": [
    "- There are 3 features in the data xxxxi.csv:\n",
    "    - receipt_id: the transaction id\n",
    "    - Quantity: the quantity of the product purchased per transaction\n",
    "    - product_id: id of the product."
   ]
  },
  {
   "cell_type": "code",
   "execution_count": 9,
   "id": "3419f349",
   "metadata": {},
   "outputs": [],
   "source": [
    "data.createOrReplaceTempView('order_product_data')"
   ]
  },
  {
   "cell_type": "code",
   "execution_count": 10,
   "id": "96576a27",
   "metadata": {},
   "outputs": [],
   "source": [
    "products = spark.sql('select distinct product_id from order_product_data')"
   ]
  },
  {
   "cell_type": "code",
   "execution_count": 11,
   "id": "eea424a6",
   "metadata": {},
   "outputs": [
    {
     "data": {
      "text/plain": [
       "50"
      ]
     },
     "execution_count": 11,
     "metadata": {},
     "output_type": "execute_result"
    }
   ],
   "source": [
    "products.count()"
   ]
  },
  {
   "cell_type": "markdown",
   "id": "59fc0e52",
   "metadata": {},
   "source": [
    "## Modeling and Evaluating"
   ]
  },
  {
   "cell_type": "markdown",
   "id": "d0672ac6",
   "metadata": {},
   "source": [
    "In this case, I will build in 2 cases, althought 2 case give the same result. But the second case will give the specific product rather than ID like in the forst case."
   ]
  },
  {
   "cell_type": "markdown",
   "id": "4f0cb13a",
   "metadata": {},
   "source": [
    "### Case 1: Model with product_id"
   ]
  },
  {
   "cell_type": "code",
   "execution_count": 12,
   "id": "c56f4589",
   "metadata": {},
   "outputs": [],
   "source": [
    "rawData = spark.sql('select * from order_product_data')\n",
    "baskets = rawData.groupBy('receipt_id').agg(collect_set('product_id')\\\n",
    "                                         .alias('items'))\n",
    "baskets.createOrReplaceTempView('baskets')"
   ]
  },
  {
   "cell_type": "markdown",
   "id": "7af72f60",
   "metadata": {},
   "source": [
    "- Group the data into receipt_id and all product_id with the following receipt_id will combined into a list called basket under the name items.\n",
    "- This mean showed all the product in the basket per transaction"
   ]
  },
  {
   "cell_type": "code",
   "execution_count": 13,
   "id": "37bfc376",
   "metadata": {
    "scrolled": true
   },
   "outputs": [
    {
     "name": "stdout",
     "output_type": "stream",
     "text": [
      "+----------+----------------------+\n",
      "|receipt_id|items                 |\n",
      "+----------+----------------------+\n",
      "|148       |[33, 27, 9, 46, 28, 4]|\n",
      "|463       |[17, 14]              |\n",
      "|471       |[9, 37, 34, 20]       |\n",
      "|496       |[15, 6, 47, 26]       |\n",
      "|833       |[12, 5, 21]           |\n",
      "|1088      |[27, 35, 3, 18, 40]   |\n",
      "|1238      |[19, 32, 18]          |\n",
      "|1342      |[49, 17, 8]           |\n",
      "|1580      |[12, 31, 36]          |\n",
      "|1591      |[1, 19]               |\n",
      "+----------+----------------------+\n",
      "only showing top 10 rows\n",
      "\n"
     ]
    }
   ],
   "source": [
    "baskets.show(10, truncate = False)"
   ]
  },
  {
   "cell_type": "markdown",
   "id": "be0dfb99",
   "metadata": {},
   "source": [
    "The minSupport and minConfidence will be set to the lowest due to the huge amount of transaction. This is one of the most popular properties of Association Rule problem."
   ]
  },
  {
   "cell_type": "code",
   "execution_count": 14,
   "id": "e17465be",
   "metadata": {},
   "outputs": [],
   "source": [
    "fpgrowth = FPGrowth(itemsCol = 'items', minSupport = 0.003, minConfidence = 0.003)\n",
    "model = fpgrowth.fit(baskets)"
   ]
  },
  {
   "cell_type": "code",
   "execution_count": 15,
   "id": "e17a8863",
   "metadata": {},
   "outputs": [
    {
     "name": "stdout",
     "output_type": "stream",
     "text": [
      "+--------+----+\n",
      "|   items|freq|\n",
      "+--------+----+\n",
      "|     [7]|8193|\n",
      "|    [45]|7700|\n",
      "| [45, 7]|2367|\n",
      "|    [28]|7556|\n",
      "|[28, 45]| 387|\n",
      "| [28, 7]| 383|\n",
      "|    [18]|6987|\n",
      "|[18, 28]| 393|\n",
      "|[18, 45]| 318|\n",
      "| [18, 7]| 321|\n",
      "|     [4]|6948|\n",
      "| [4, 28]| 465|\n",
      "| [4, 45]| 372|\n",
      "| [4, 18]| 402|\n",
      "|  [4, 7]| 378|\n",
      "|    [35]|6943|\n",
      "|[35, 28]| 381|\n",
      "| [35, 4]| 388|\n",
      "|[35, 45]| 309|\n",
      "|[35, 18]|3982|\n",
      "+--------+----+\n",
      "only showing top 20 rows\n",
      "\n"
     ]
    }
   ],
   "source": [
    "model.freqItemsets.show()"
   ]
  },
  {
   "cell_type": "code",
   "execution_count": 16,
   "id": "0be2d235",
   "metadata": {},
   "outputs": [],
   "source": [
    "mostPopularItemInBasket = model.transform(baskets)"
   ]
  },
  {
   "cell_type": "code",
   "execution_count": 17,
   "id": "e8e2a03b",
   "metadata": {
    "scrolled": false
   },
   "outputs": [
    {
     "name": "stdout",
     "output_type": "stream",
     "text": [
      "+----------+----------------------+--------------------------------------------------------------------------------------------------------------------------------------------------------------------------------------+\n",
      "|receipt_id|items                 |prediction                                                                                                                                                                            |\n",
      "+----------+----------------------+--------------------------------------------------------------------------------------------------------------------------------------------------------------------------------------+\n",
      "|148       |[33, 27, 9, 46, 28, 4]|[35, 22, 45, 18, 42, 7, 14, 32, 1, 0, 16, 5, 3, 47, 37, 11, 15, 19, 44, 2, 17, 40, 12, 24, 49, 29, 41, 36, 23, 31, 43, 48, 39, 20, 21, 34, 30, 8, 38, 26, 6, 13, 10, 25]              |\n",
      "|463       |[17, 14]              |[27, 28, 35, 4, 22, 45, 18, 42, 7, 32, 1, 0, 46, 16, 9, 5, 33, 3, 47, 37, 11, 15, 19, 44, 2, 40, 12, 24, 49, 29, 41, 36, 23, 31, 43, 48, 39, 20, 21, 34, 30, 8, 38, 26, 6, 13, 10, 25]|\n",
      "|471       |[9, 37, 34, 20]       |[19, 33, 27, 17, 1, 28, 46, 4, 15, 22, 5, 45, 47, 3, 14, 0, 18, 44, 42, 7, 35, 16, 32, 11, 2, 24, 29, 41, 8, 40, 12, 49, 36, 23, 31, 43, 48, 39, 21, 30, 38, 26, 6, 13, 10, 25]       |\n",
      "|496       |[15, 6, 47, 26]       |[27, 33, 1, 28, 37, 35, 16, 46, 4, 5, 22, 32, 45, 3, 14, 0, 18, 11, 42, 9, 7, 19, 44, 2, 17, 40, 12, 24, 49, 29, 41, 36, 23, 43, 21, 34, 31, 48, 39, 20, 8, 38, 13, 10]               |\n",
      "|833       |[12, 5, 21]           |[19, 33, 27, 17, 1, 28, 35, 16, 46, 4, 15, 22, 2, 32, 45, 47, 3, 14, 18, 0, 9, 44, 42, 7, 49, 36, 31, 48, 37, 11, 40, 24, 29, 41, 23, 43, 39, 20, 34, 30, 8, 38, 26, 6, 13, 10, 25]   |\n",
      "+----------+----------------------+--------------------------------------------------------------------------------------------------------------------------------------------------------------------------------------+\n",
      "only showing top 5 rows\n",
      "\n"
     ]
    }
   ],
   "source": [
    "mostPopularItemInBasket.show(5, truncate =  False)"
   ]
  },
  {
   "cell_type": "markdown",
   "id": "e67960d9",
   "metadata": {},
   "source": [
    "The result give alot of product recommended per transaction."
   ]
  },
  {
   "cell_type": "markdown",
   "id": "64e66f66",
   "metadata": {},
   "source": [
    "### Case2: Model with Product name (convert from product id)"
   ]
  },
  {
   "cell_type": "markdown",
   "id": "16b8bce1",
   "metadata": {},
   "source": [
    "To show the result with product_id, I will load the dataset contain the product information."
   ]
  },
  {
   "cell_type": "code",
   "execution_count": 18,
   "id": "3644d32e",
   "metadata": {},
   "outputs": [],
   "source": [
    "product = spark.read.csv('75000/goods.csv', header = True, inferSchema = True)"
   ]
  },
  {
   "cell_type": "code",
   "execution_count": 19,
   "id": "de58aafa",
   "metadata": {},
   "outputs": [
    {
     "name": "stdout",
     "output_type": "stream",
     "text": [
      "root\n",
      " |-- Id: integer (nullable = true)\n",
      " |-- Flavor: string (nullable = true)\n",
      " |-- Food: string (nullable = true)\n",
      " |-- Price: double (nullable = true)\n",
      " |-- Type: string (nullable = true)\n",
      "\n"
     ]
    }
   ],
   "source": [
    "product.printSchema()"
   ]
  },
  {
   "cell_type": "code",
   "execution_count": 20,
   "id": "f988d25d",
   "metadata": {
    "scrolled": true
   },
   "outputs": [
    {
     "name": "stdout",
     "output_type": "stream",
     "text": [
      "+---+-----------+------+-----+------+\n",
      "|Id |Flavor     |Food  |Price|Type  |\n",
      "+---+-----------+------+-----+------+\n",
      "|0  |'Chocolate'|'Cake'|8.95 |'Food'|\n",
      "|1  |'Lemon'    |'Cake'|8.95 |'Food'|\n",
      "|2  |'Casino'   |'Cake'|15.95|'Food'|\n",
      "+---+-----------+------+-----+------+\n",
      "only showing top 3 rows\n",
      "\n"
     ]
    }
   ],
   "source": [
    "product.show(3, truncate = False)"
   ]
  },
  {
   "cell_type": "markdown",
   "id": "42c4a1e0",
   "metadata": {},
   "source": [
    "The flavor and food feature have the single quote in its value. So I need to replace them with \"\"."
   ]
  },
  {
   "cell_type": "code",
   "execution_count": 21,
   "id": "c650d008",
   "metadata": {},
   "outputs": [],
   "source": [
    "product = product.withColumn('Flavor', regexp_replace('Flavor', \"\\'\", \"\"))\n",
    "product = product.withColumn('Food', regexp_replace('Food', \"\\'\", \"\"))"
   ]
  },
  {
   "cell_type": "code",
   "execution_count": 22,
   "id": "c63afb2b",
   "metadata": {},
   "outputs": [
    {
     "name": "stdout",
     "output_type": "stream",
     "text": [
      "+---+----------+------+-----+------+\n",
      "| Id|    Flavor|  Food|Price|  Type|\n",
      "+---+----------+------+-----+------+\n",
      "|  0| Chocolate|  Cake| 8.95|'Food'|\n",
      "|  1|     Lemon|  Cake| 8.95|'Food'|\n",
      "|  2|    Casino|  Cake|15.95|'Food'|\n",
      "|  3|     Opera|  Cake|15.95|'Food'|\n",
      "|  4|Strawberry|  Cake|11.95|'Food'|\n",
      "|  5|   Truffle|  Cake|15.95|'Food'|\n",
      "|  6| Chocolate|Eclair| 3.25|'Food'|\n",
      "|  7|    Coffee|Eclair|  3.5|'Food'|\n",
      "|  8|   Vanilla|Eclair| 3.25|'Food'|\n",
      "|  9|  Napoleon|  Cake|13.49|'Food'|\n",
      "+---+----------+------+-----+------+\n",
      "only showing top 10 rows\n",
      "\n"
     ]
    }
   ],
   "source": [
    "product.show(10)"
   ]
  },
  {
   "cell_type": "markdown",
   "id": "59e07098",
   "metadata": {},
   "source": [
    "- I have to use Flavor and Food rather than choose 1 from 2 because the Flavor and Food have its own duplicate value if I ise 1 feature. For instance: Flavor have 2 Chocolate in its column, and Food have alot of cake category.\n",
    "- The necessary option is to combine 2 feature: Chocolate Cake and Chocolate Eclair. So that it will not duplicate anymore."
   ]
  },
  {
   "cell_type": "code",
   "execution_count": 23,
   "id": "c2804554",
   "metadata": {},
   "outputs": [],
   "source": [
    "product_data = product.select(concat_ws(' ',product.Flavor,product.Food).alias('product_name'),'Id', 'Flavor', 'Food', 'Price', 'Type')"
   ]
  },
  {
   "cell_type": "code",
   "execution_count": 24,
   "id": "5df68c2d",
   "metadata": {},
   "outputs": [
    {
     "name": "stdout",
     "output_type": "stream",
     "text": [
      "+---------------+---+----------+----+-----+------+\n",
      "|   product_name| Id|    Flavor|Food|Price|  Type|\n",
      "+---------------+---+----------+----+-----+------+\n",
      "| Chocolate Cake|  0| Chocolate|Cake| 8.95|'Food'|\n",
      "|     Lemon Cake|  1|     Lemon|Cake| 8.95|'Food'|\n",
      "|    Casino Cake|  2|    Casino|Cake|15.95|'Food'|\n",
      "|     Opera Cake|  3|     Opera|Cake|15.95|'Food'|\n",
      "|Strawberry Cake|  4|Strawberry|Cake|11.95|'Food'|\n",
      "+---------------+---+----------+----+-----+------+\n",
      "only showing top 5 rows\n",
      "\n"
     ]
    }
   ],
   "source": [
    "product_data.show(5)"
   ]
  },
  {
   "cell_type": "code",
   "execution_count": 25,
   "id": "3acdb6a7",
   "metadata": {},
   "outputs": [],
   "source": [
    "product_data.createOrReplaceTempView('products')"
   ]
  },
  {
   "cell_type": "code",
   "execution_count": 26,
   "id": "273a8eda",
   "metadata": {},
   "outputs": [],
   "source": [
    "rawData1 = spark.sql('''select p.product_name, o.receipt_id from products p inner join order_product_data o\n",
    "                        where o.product_id = p.id''')\n",
    "baskets1 = rawData1.groupBy('receipt_id').agg(collect_set('product_name')\\\n",
    "                                         .alias('items'))\n",
    "#baskets1.createOrReplaceTempView('baskets1')"
   ]
  },
  {
   "cell_type": "code",
   "execution_count": 27,
   "id": "23ba7e65",
   "metadata": {
    "scrolled": true
   },
   "outputs": [
    {
     "data": {
      "text/plain": [
       "[Row(receipt_id=148, items=['Tuile Cookie', 'Strawberry Cake', 'Napoleon Cake', 'Chocolate Coffee', 'Cheese Croissant', 'Marzipan Cookie']),\n",
       " Row(receipt_id=463, items=['Berry Tart', 'Chocolate Tart']),\n",
       " Row(receipt_id=471, items=['Almond Twist', 'Chocolate Croissant', 'Pecan Tart', 'Napoleon Cake'])]"
      ]
     },
     "execution_count": 27,
     "metadata": {},
     "output_type": "execute_result"
    }
   ],
   "source": [
    "baskets1.head(3)"
   ]
  },
  {
   "cell_type": "code",
   "execution_count": 28,
   "id": "a4df2964",
   "metadata": {},
   "outputs": [],
   "source": [
    "fpgrowth1 = FPGrowth(itemsCol = 'items', minSupport = 0.003, minConfidence = 0.003)\n",
    "model1 = fpgrowth.fit(baskets1)"
   ]
  },
  {
   "cell_type": "code",
   "execution_count": 29,
   "id": "dfb1eee1",
   "metadata": {
    "scrolled": false
   },
   "outputs": [
    {
     "name": "stdout",
     "output_type": "stream",
     "text": [
      "+--------------------+----+\n",
      "|               items|freq|\n",
      "+--------------------+----+\n",
      "|     [Coffee Eclair]|8193|\n",
      "|        [Hot Coffee]|7700|\n",
      "|[Hot Coffee, Coff...|2367|\n",
      "|      [Tuile Cookie]|7556|\n",
      "|[Tuile Cookie, Ho...| 387|\n",
      "|[Tuile Cookie, Co...| 383|\n",
      "|       [Cherry Tart]|6987|\n",
      "|[Cherry Tart, Tui...| 393|\n",
      "|[Cherry Tart, Hot...| 318|\n",
      "|[Cherry Tart, Cof...| 321|\n",
      "|   [Strawberry Cake]|6948|\n",
      "|[Strawberry Cake,...| 465|\n",
      "|[Strawberry Cake,...| 372|\n",
      "|[Strawberry Cake,...| 402|\n",
      "|[Strawberry Cake,...| 378|\n",
      "|    [Apricot Danish]|6943|\n",
      "|[Apricot Danish, ...| 381|\n",
      "|[Apricot Danish, ...| 388|\n",
      "|[Apricot Danish, ...| 309|\n",
      "|[Apricot Danish, ...|3982|\n",
      "+--------------------+----+\n",
      "only showing top 20 rows\n",
      "\n"
     ]
    }
   ],
   "source": [
    "model1.freqItemsets.show()"
   ]
  },
  {
   "cell_type": "markdown",
   "id": "cae54511",
   "metadata": {},
   "source": [
    "Same result but different items value: product_name insead of product id."
   ]
  },
  {
   "cell_type": "code",
   "execution_count": 30,
   "id": "4ac2337d",
   "metadata": {},
   "outputs": [],
   "source": [
    "mostPopularItemInBasket1 = model1.transform(baskets1)"
   ]
  },
  {
   "cell_type": "code",
   "execution_count": 31,
   "id": "096fbc38",
   "metadata": {},
   "outputs": [
    {
     "name": "stdout",
     "output_type": "stream",
     "text": [
      "+----------+--------------------+--------------------+\n",
      "|receipt_id|               items|          prediction|\n",
      "+----------+--------------------+--------------------+\n",
      "|       148|[Tuile Cookie, St...|[Hot Coffee, Cher...|\n",
      "|       463|[Berry Tart, Choc...|[Lemon Tart, Marz...|\n",
      "|       471|[Almond Twist, Ch...|[Marzipan Cookie,...|\n",
      "|       496|[Vanilla Meringue...|[Lemon Tart, Marz...|\n",
      "|       833|[Ganache Cookie, ...|[Lemon Tart, Chee...|\n",
      "|      1088|[Cherry Tart, Ope...|[Cheese Croissant...|\n",
      "|      1238|[Cherry Tart, Apr...|[Marzipan Cookie,...|\n",
      "|      1342|[Single Espresso,...|[Lemon Tart, Marz...|\n",
      "|      1580|[Apple Croissant,...|[Lemon Tart, Chee...|\n",
      "|      1591|[Lemon Cake, Lemo...|[Marzipan Cookie,...|\n",
      "|      1645|[Coffee Eclair, B...|[Hot Coffee, Tuil...|\n",
      "|      1829|[Coffee Eclair, A...|[Lemon Tart, Rasp...|\n",
      "|      1959|[Cherry Tart, Lem...|[Tuile Cookie, Ho...|\n",
      "|      2122|[Truffle Cake, Go...|[Tuile Cookie, Ap...|\n",
      "|      2142|[Bottled Water, B...|[Lemon Tart, Chee...|\n",
      "|      2366|[Walnut Cookie, C...|[Tuile Cookie, Ap...|\n",
      "|      2659|      [Orange Juice]|[Tuile Cookie, Ap...|\n",
      "|      2866|[Tuile Cookie, Ca...|[Hot Coffee, Coff...|\n",
      "|      3175|[Orange Juice, Ch...|[Tuile Cookie, Ap...|\n",
      "|      3749|[Strawberry Cake,...|[Tuile Cookie, Ch...|\n",
      "+----------+--------------------+--------------------+\n",
      "only showing top 20 rows\n",
      "\n"
     ]
    }
   ],
   "source": [
    "mostPopularItemInBasket1.show()"
   ]
  },
  {
   "cell_type": "code",
   "execution_count": 32,
   "id": "741559c4",
   "metadata": {},
   "outputs": [
    {
     "name": "stdout",
     "output_type": "stream",
     "text": [
      "root\n",
      " |-- receipt_id: integer (nullable = true)\n",
      " |-- items: array (nullable = false)\n",
      " |    |-- element: string (containsNull = false)\n",
      " |-- prediction: array (nullable = true)\n",
      " |    |-- element: string (containsNull = false)\n",
      "\n"
     ]
    }
   ],
   "source": [
    "mostPopularItemInBasket1.printSchema()"
   ]
  },
  {
   "cell_type": "code",
   "execution_count": 33,
   "id": "217ff835",
   "metadata": {},
   "outputs": [],
   "source": [
    "mostPopularItemInBasket1.createOrReplaceTempView('popular_items')"
   ]
  },
  {
   "cell_type": "code",
   "execution_count": 34,
   "id": "46805cef",
   "metadata": {},
   "outputs": [
    {
     "name": "stdout",
     "output_type": "stream",
     "text": [
      "root\n",
      " |-- receipt_id: integer (nullable = true)\n",
      " |-- items: string (nullable = false)\n",
      " |-- prediction: string (nullable = true)\n",
      "\n"
     ]
    }
   ],
   "source": [
    "DF_cast = mostPopularItemInBasket1.select('receipt_id', mostPopularItemInBasket1.items.cast(StringType()),\n",
    "                                         mostPopularItemInBasket1.prediction.cast(StringType()))\n",
    "DF_cast.printSchema()"
   ]
  },
  {
   "cell_type": "markdown",
   "id": "51e4fcd8",
   "metadata": {},
   "source": [
    "Now the result already give alot of recommendation for every product."
   ]
  },
  {
   "cell_type": "code",
   "execution_count": 35,
   "id": "e198c885",
   "metadata": {},
   "outputs": [
    {
     "data": {
      "text/plain": [
       "[Row(receipt_id=148, items='[Tuile Cookie, Strawberry Cake, Napoleon Cake, Chocolate Coffee, Cheese Croissant, Marzipan Cookie]', prediction='[Hot Coffee, Cherry Tart, Coffee Eclair, Apricot Danish, Orange Juice, Gongolais Cookie, Berry Tart, Apricot Croissant, Lemon Cake, Chocolate Cake, Blueberry Tart, Truffle Cake, Opera Cake, Vanilla Frappuccino, Almond Twist, Apple Pie, Blackberry Tart, Lemon Tart, Bottled Water, Casino Cake, Chocolate Tart, Lemon Lemonade, Apple Tart, Lemon Cookie, Single Espresso, Walnut Cookie, Raspberry Lemonade, Apple Danish, Raspberry Cookie, Apple Croissant, Green Tea, Cherry Soda, Blueberry Danish, Pecan Tart, Ganache Cookie, Chocolate Croissant, Almond Croissant, Vanilla Eclair, Almond Bear Claw, Vanilla Meringue, Chocolate Eclair, Apricot Tart, Almond Tart, Chocolate Meringue]'),\n",
       " Row(receipt_id=463, items='[Berry Tart, Chocolate Tart]', prediction='[Lemon Tart, Marzipan Cookie, Cheese Croissant, Lemon Cake, Tuile Cookie, Almond Twist, Apricot Danish, Blueberry Tart, Chocolate Coffee, Strawberry Cake, Blackberry Tart, Truffle Cake, Gongolais Cookie, Apricot Croissant, Hot Coffee, Vanilla Frappuccino, Opera Cake, Cherry Tart, Apple Pie, Chocolate Cake, Napoleon Cake, Bottled Water, Orange Juice, Coffee Eclair, Lemon Lemonade, Apple Tart, Single Espresso, Walnut Cookie, Apple Danish, Apple Croissant, Green Tea, Blueberry Danish, Chocolate Croissant, Vanilla Meringue, Chocolate Eclair, Casino Cake, Lemon Cookie, Raspberry Lemonade, Raspberry Cookie, Cherry Soda, Pecan Tart, Ganache Cookie, Almond Croissant, Vanilla Eclair, Almond Bear Claw, Apricot Tart, Almond Tart, Chocolate Meringue]'),\n",
       " Row(receipt_id=471, items='[Almond Twist, Chocolate Croissant, Pecan Tart, Napoleon Cake]', prediction='[Marzipan Cookie, Lemon Cake, Tuile Cookie, Apricot Danish, Blueberry Tart, Strawberry Cake, Chocolate Coffee, Gongolais Cookie, Apricot Croissant, Hot Coffee, Berry Tart, Chocolate Cake, Cherry Tart, Orange Juice, Coffee Eclair, Truffle Cake, Cheese Croissant, Opera Cake, Vanilla Frappuccino, Apple Pie, Blackberry Tart, Lemon Tart, Bottled Water, Casino Cake, Chocolate Tart, Lemon Lemonade, Apple Tart, Lemon Cookie, Single Espresso, Walnut Cookie, Raspberry Lemonade, Apple Danish, Raspberry Cookie, Apple Croissant, Green Tea, Cherry Soda, Blueberry Danish, Ganache Cookie, Almond Croissant, Vanilla Eclair, Almond Bear Claw, Vanilla Meringue, Chocolate Eclair, Apricot Tart, Almond Tart, Chocolate Meringue]')]"
      ]
     },
     "execution_count": 35,
     "metadata": {},
     "output_type": "execute_result"
    }
   ],
   "source": [
    "DF_cast.head(3)"
   ]
  },
  {
   "cell_type": "markdown",
   "id": "7953d783",
   "metadata": {},
   "source": [
    "DF_cast = DF_cast.write.csv('recommended_goods.csv')"
   ]
  },
  {
   "cell_type": "code",
   "execution_count": null,
   "id": "f84da95b",
   "metadata": {},
   "outputs": [],
   "source": []
  }
 ],
 "metadata": {
  "kernelspec": {
   "display_name": "Python 3 (ipykernel)",
   "language": "python",
   "name": "python3"
  },
  "language_info": {
   "codemirror_mode": {
    "name": "ipython",
    "version": 3
   },
   "file_extension": ".py",
   "mimetype": "text/x-python",
   "name": "python",
   "nbconvert_exporter": "python",
   "pygments_lexer": "ipython3",
   "version": "3.8.10"
  }
 },
 "nbformat": 4,
 "nbformat_minor": 5
}
