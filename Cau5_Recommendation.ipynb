{
 "cells": [
  {
   "cell_type": "markdown",
   "id": "50209728",
   "metadata": {},
   "source": [
    "## Business understanding"
   ]
  },
  {
   "cell_type": "markdown",
   "id": "438284bc",
   "metadata": {},
   "source": [
    "- Goal: Build a model to predict overalls for products that have been select for users."
   ]
  },
  {
   "cell_type": "markdown",
   "id": "112babcf",
   "metadata": {},
   "source": [
    "## Set Environments"
   ]
  },
  {
   "cell_type": "code",
   "execution_count": 1,
   "id": "698ae8bc",
   "metadata": {},
   "outputs": [],
   "source": [
    "import findspark\n",
    "findspark.init()"
   ]
  },
  {
   "cell_type": "code",
   "execution_count": 2,
   "id": "972f07f6",
   "metadata": {},
   "outputs": [],
   "source": [
    "import pandas as pd\n",
    "import numpy as np\n",
    "\n",
    "from pyspark import SparkContext\n",
    "from pyspark import SparkConf\n",
    "from pyspark.sql import SparkSession\n",
    "\n",
    "from pyspark.sql.functions import *\n",
    "from pyspark.ml.evaluation import RegressionEvaluator\n",
    "from pyspark.ml.recommendation import ALS\n",
    "from pyspark.ml.feature import StringIndexer\n",
    "from pyspark.ml import Pipeline"
   ]
  },
  {
   "cell_type": "code",
   "execution_count": 3,
   "id": "8df79181",
   "metadata": {},
   "outputs": [],
   "source": [
    "spark = SparkSession.builder.appName('customer_recommendation').getOrCreate()"
   ]
  },
  {
   "cell_type": "markdown",
   "id": "01c492bb",
   "metadata": {},
   "source": [
    "## Load Dataset"
   ]
  },
  {
   "cell_type": "code",
   "execution_count": 4,
   "id": "2d3714c7",
   "metadata": {},
   "outputs": [],
   "source": [
    "data = spark.read.json('reviews_Office_Products_5.json')"
   ]
  },
  {
   "cell_type": "code",
   "execution_count": 5,
   "id": "e28d58a7",
   "metadata": {},
   "outputs": [
    {
     "name": "stdout",
     "output_type": "stream",
     "text": [
      "+----------+-------+-------+--------------------+-----------+--------------+-------------------+--------------------+--------------+\n",
      "|      asin|helpful|overall|          reviewText| reviewTime|    reviewerID|       reviewerName|             summary|unixReviewTime|\n",
      "+----------+-------+-------+--------------------+-----------+--------------+-------------------+--------------------+--------------+\n",
      "|B00000JBLH| [3, 4]|    5.0|I bought my first...| 09 3, 2004|A32T2H8150OJLU|                ARH|A solid performer...|    1094169600|\n",
      "|B00000JBLH| [7, 9]|    5.0|WHY THIS BELATED ...|12 15, 2007|A3MAFS04ZABRGO|   Let it Be \"Alan\"|Price of GOLD is ...|    1197676800|\n",
      "|B00000JBLH| [3, 3]|    2.0|I have an HP 48GX...| 01 1, 2011|A1F1A0QQP2XVH5|             Mark B|Good functionalit...|    1293840000|\n",
      "|B00000JBLH| [7, 8]|    5.0|I've started doin...|04 19, 2006| A49R5DBXXQDE5|       R. D Johnson|One of the last o...|    1145404800|\n",
      "|B00000JBLH| [0, 0]|    5.0|For simple calcul...| 08 4, 2013|A2XRMQA6PJ5ZJ8|Roger J. Buffington|      Still the best|    1375574400|\n",
      "+----------+-------+-------+--------------------+-----------+--------------+-------------------+--------------------+--------------+\n",
      "only showing top 5 rows\n",
      "\n"
     ]
    }
   ],
   "source": [
    "data.show(5)"
   ]
  },
  {
   "cell_type": "markdown",
   "id": "0cf84d77",
   "metadata": {},
   "source": [
    "## Data understanding"
   ]
  },
  {
   "cell_type": "markdown",
   "id": "5c99a662",
   "metadata": {},
   "source": [
    "#### Data Collection\n",
    "- Datasets contain product review on Amazon from May,1996 to July, 2014."
   ]
  },
  {
   "cell_type": "markdown",
   "id": "0b2f0e29",
   "metadata": {},
   "source": [
    "#### Data Understanding\n",
    "- reviewerID - ID of the reviewer, e.g. A2SUAM1J3GNN3B\n",
    "- asin - ID of the product, e.g. 0000013714\n",
    "- reviewerName - name of the reviewer\n",
    "- helpful - helpfulness rating of the review, e.g. 2/3\n",
    "- reviewText - text of the review\n",
    "- overall - rating of the product\n",
    "- summary - summary of the review\n",
    "- unixReviewTime - time of the review (unix time)\n",
    "- reviewTime - time of the review (raw)"
   ]
  },
  {
   "cell_type": "code",
   "execution_count": 6,
   "id": "fad4a225",
   "metadata": {},
   "outputs": [],
   "source": [
    "rating = data.select(['asin', 'overall', 'reviewerID'])"
   ]
  },
  {
   "cell_type": "code",
   "execution_count": 7,
   "id": "9d897d91",
   "metadata": {},
   "outputs": [
    {
     "name": "stdout",
     "output_type": "stream",
     "text": [
      "Total row of dataset: 53258 rows\n"
     ]
    }
   ],
   "source": [
    "print('Total row of dataset: {} rows'.format(rating.count()))"
   ]
  },
  {
   "cell_type": "code",
   "execution_count": 8,
   "id": "5ca94e1a",
   "metadata": {},
   "outputs": [
    {
     "data": {
      "text/html": [
       "<div>\n",
       "<style scoped>\n",
       "    .dataframe tbody tr th:only-of-type {\n",
       "        vertical-align: middle;\n",
       "    }\n",
       "\n",
       "    .dataframe tbody tr th {\n",
       "        vertical-align: top;\n",
       "    }\n",
       "\n",
       "    .dataframe thead th {\n",
       "        text-align: right;\n",
       "    }\n",
       "</style>\n",
       "<table border=\"1\" class=\"dataframe\">\n",
       "  <thead>\n",
       "    <tr style=\"text-align: right;\">\n",
       "      <th></th>\n",
       "      <th>0</th>\n",
       "    </tr>\n",
       "  </thead>\n",
       "  <tbody>\n",
       "    <tr>\n",
       "      <th>asin</th>\n",
       "      <td>0</td>\n",
       "    </tr>\n",
       "    <tr>\n",
       "      <th>overall</th>\n",
       "      <td>0</td>\n",
       "    </tr>\n",
       "    <tr>\n",
       "      <th>reviewerID</th>\n",
       "      <td>0</td>\n",
       "    </tr>\n",
       "  </tbody>\n",
       "</table>\n",
       "</div>"
      ],
      "text/plain": [
       "            0\n",
       "asin        0\n",
       "overall     0\n",
       "reviewerID  0"
      ]
     },
     "execution_count": 8,
     "metadata": {},
     "output_type": "execute_result"
    }
   ],
   "source": [
    "rating.select([count(when(col(c).isNull(), c)).alias(c) for c in rating.columns]).toPandas().T"
   ]
  },
  {
   "cell_type": "markdown",
   "id": "4ea42620",
   "metadata": {},
   "source": [
    "There is no Null value in this dataset"
   ]
  },
  {
   "cell_type": "code",
   "execution_count": 9,
   "id": "e434d09c",
   "metadata": {},
   "outputs": [],
   "source": [
    "users = rating.select('reviewerID').distinct().count()\n",
    "products = rating.select('asin').distinct().count()\n",
    "numerator = rating.count()"
   ]
  },
  {
   "cell_type": "code",
   "execution_count": 10,
   "id": "04355b16",
   "metadata": {},
   "outputs": [
    {
     "name": "stdout",
     "output_type": "stream",
     "text": [
      "Total Reviewer ID: 4905 user\n",
      "Total Products: 2420 products\n",
      "Total row of rating: 53258 rows\n"
     ]
    }
   ],
   "source": [
    "print('Total Reviewer ID: {} user'.format(users))\n",
    "print('Total Products: {} products'.format(products))\n",
    "print('Total row of rating: {} rows'.format(numerator))"
   ]
  },
  {
   "cell_type": "code",
   "execution_count": 11,
   "id": "cfa712c0",
   "metadata": {},
   "outputs": [
    {
     "data": {
      "text/plain": [
       "11870100"
      ]
     },
     "execution_count": 11,
     "metadata": {},
     "output_type": "execute_result"
    }
   ],
   "source": [
    "denominator = users*products\n",
    "denominator"
   ]
  },
  {
   "cell_type": "code",
   "execution_count": 12,
   "id": "da352910",
   "metadata": {
    "scrolled": true
   },
   "outputs": [
    {
     "name": "stdout",
     "output_type": "stream",
     "text": [
      "Sparsity: \n"
     ]
    },
    {
     "data": {
      "text/plain": [
       "(None, 0.9955132644206873)"
      ]
     },
     "execution_count": 12,
     "metadata": {},
     "output_type": "execute_result"
    }
   ],
   "source": [
    "sparsity = 1-(numerator*1.0/denominator)\n",
    "print('Sparsity: '), sparsity"
   ]
  },
  {
   "cell_type": "markdown",
   "id": "5fcc87da",
   "metadata": {},
   "source": [
    "## Data Transformation"
   ]
  },
  {
   "cell_type": "markdown",
   "id": "043547d9",
   "metadata": {},
   "source": [
    "asin and reviewerID need to convert into StringIndexer for prediction model."
   ]
  },
  {
   "cell_type": "code",
   "execution_count": 13,
   "id": "f4e32744",
   "metadata": {},
   "outputs": [],
   "source": [
    "indexer = StringIndexer(inputCol = 'asin', outputCol = 'asin_idx')\n",
    "indexer1 = StringIndexer(inputCol = 'reviewerID', outputCol = 'reviewID_idx')"
   ]
  },
  {
   "cell_type": "code",
   "execution_count": 14,
   "id": "f870a0c6",
   "metadata": {},
   "outputs": [],
   "source": [
    "pipeline = Pipeline(stages = [indexer, indexer1])"
   ]
  },
  {
   "cell_type": "code",
   "execution_count": 15,
   "id": "cb8ef8e8",
   "metadata": {},
   "outputs": [],
   "source": [
    "data_indexed = pipeline.fit(rating).transform(rating)"
   ]
  },
  {
   "cell_type": "code",
   "execution_count": 16,
   "id": "db5a631e",
   "metadata": {},
   "outputs": [
    {
     "name": "stdout",
     "output_type": "stream",
     "text": [
      "+----------+-------+--------------+--------+------------+\n",
      "|      asin|overall|    reviewerID|asin_idx|reviewID_idx|\n",
      "+----------+-------+--------------+--------+------------+\n",
      "|B00000JBLH|    5.0|A32T2H8150OJLU|  1444.0|       286.0|\n",
      "|B00000JBLH|    5.0|A3MAFS04ZABRGO|  1444.0|      4499.0|\n",
      "|B00000JBLH|    2.0|A1F1A0QQP2XVH5|  1444.0|       211.0|\n",
      "|B00000JBLH|    5.0| A49R5DBXXQDE5|  1444.0|      4604.0|\n",
      "|B00000JBLH|    5.0|A2XRMQA6PJ5ZJ8|  1444.0|      1330.0|\n",
      "+----------+-------+--------------+--------+------------+\n",
      "only showing top 5 rows\n",
      "\n"
     ]
    }
   ],
   "source": [
    "data_indexed.show(5)"
   ]
  },
  {
   "cell_type": "markdown",
   "id": "65e72181",
   "metadata": {},
   "source": [
    "The feature have already been converted."
   ]
  },
  {
   "cell_type": "code",
   "execution_count": 17,
   "id": "c5c8cd98",
   "metadata": {},
   "outputs": [
    {
     "data": {
      "text/html": [
       "<div>\n",
       "<style scoped>\n",
       "    .dataframe tbody tr th:only-of-type {\n",
       "        vertical-align: middle;\n",
       "    }\n",
       "\n",
       "    .dataframe tbody tr th {\n",
       "        vertical-align: top;\n",
       "    }\n",
       "\n",
       "    .dataframe thead th {\n",
       "        text-align: right;\n",
       "    }\n",
       "</style>\n",
       "<table border=\"1\" class=\"dataframe\">\n",
       "  <thead>\n",
       "    <tr style=\"text-align: right;\">\n",
       "      <th></th>\n",
       "      <th>0</th>\n",
       "    </tr>\n",
       "  </thead>\n",
       "  <tbody>\n",
       "    <tr>\n",
       "      <th>asin</th>\n",
       "      <td>0</td>\n",
       "    </tr>\n",
       "    <tr>\n",
       "      <th>overall</th>\n",
       "      <td>0</td>\n",
       "    </tr>\n",
       "    <tr>\n",
       "      <th>reviewerID</th>\n",
       "      <td>0</td>\n",
       "    </tr>\n",
       "    <tr>\n",
       "      <th>asin_idx</th>\n",
       "      <td>0</td>\n",
       "    </tr>\n",
       "    <tr>\n",
       "      <th>reviewID_idx</th>\n",
       "      <td>0</td>\n",
       "    </tr>\n",
       "  </tbody>\n",
       "</table>\n",
       "</div>"
      ],
      "text/plain": [
       "              0\n",
       "asin          0\n",
       "overall       0\n",
       "reviewerID    0\n",
       "asin_idx      0\n",
       "reviewID_idx  0"
      ]
     },
     "execution_count": 17,
     "metadata": {},
     "output_type": "execute_result"
    }
   ],
   "source": [
    "data_indexed.select([count(when(col(c).isNull(), c)).alias(c) for c in data_indexed.columns]).toPandas().T"
   ]
  },
  {
   "cell_type": "markdown",
   "id": "fbbf0b1d",
   "metadata": {},
   "source": [
    "There is no null value after convert"
   ]
  },
  {
   "cell_type": "markdown",
   "id": "0222a65d",
   "metadata": {},
   "source": [
    "## Build model - ALS"
   ]
  },
  {
   "cell_type": "code",
   "execution_count": 18,
   "id": "3a0749df",
   "metadata": {},
   "outputs": [],
   "source": [
    "(training, test) = data_indexed.randomSplit([0.8, 0.2])"
   ]
  },
  {
   "cell_type": "code",
   "execution_count": 19,
   "id": "f855b7ad",
   "metadata": {},
   "outputs": [],
   "source": [
    "als = ALS(maxIter = 5, regParam = 0.09, rank = 25,\n",
    "         userCol = 'reviewID_idx', itemCol = 'asin_idx', ratingCol = 'overall',\n",
    "         coldStartStrategy = 'drop', nonnegative = True)\n",
    "model = als.fit(training)"
   ]
  },
  {
   "cell_type": "code",
   "execution_count": 20,
   "id": "2ef985fe",
   "metadata": {},
   "outputs": [],
   "source": [
    "predictions = model.transform(test)"
   ]
  },
  {
   "cell_type": "code",
   "execution_count": 21,
   "id": "ff2861b9",
   "metadata": {},
   "outputs": [
    {
     "name": "stdout",
     "output_type": "stream",
     "text": [
      "+--------+------------+-------+----------+\n",
      "|asin_idx|reviewID_idx|overall|prediction|\n",
      "+--------+------------+-------+----------+\n",
      "|   148.0|      1959.0|    4.0| 3.4595585|\n",
      "|   148.0|       580.0|    4.0| 4.0196123|\n",
      "|   148.0|       685.0|    5.0| 3.9438353|\n",
      "|   148.0|       168.0|    5.0| 3.8702369|\n",
      "|   148.0|       852.0|    5.0|  4.239786|\n",
      "+--------+------------+-------+----------+\n",
      "only showing top 5 rows\n",
      "\n"
     ]
    }
   ],
   "source": [
    "predictions.select(['asin_idx', 'reviewID_idx', 'overall', 'prediction']).show(5)"
   ]
  },
  {
   "cell_type": "code",
   "execution_count": 22,
   "id": "2ab43f41",
   "metadata": {},
   "outputs": [
    {
     "name": "stdout",
     "output_type": "stream",
     "text": [
      "Root mean square error = 1.0441154764794682\n"
     ]
    }
   ],
   "source": [
    "evaluator = RegressionEvaluator(metricName = 'rmse', \n",
    "                               labelCol = 'overall',\n",
    "                               predictionCol = 'prediction')\n",
    "rmse = evaluator.evaluate(predictions)\n",
    "print('Root mean square error = '+str(rmse))"
   ]
  },
  {
   "cell_type": "markdown",
   "id": "2583cf06",
   "metadata": {},
   "source": [
    "The MSE value does not big, It's acceptable."
   ]
  },
  {
   "cell_type": "code",
   "execution_count": 23,
   "id": "837152c4",
   "metadata": {},
   "outputs": [],
   "source": [
    "user_recs = model.recommendForAllUsers(20)"
   ]
  },
  {
   "cell_type": "code",
   "execution_count": 24,
   "id": "865b4ac1",
   "metadata": {},
   "outputs": [
    {
     "name": "stdout",
     "output_type": "stream",
     "text": [
      "Row(reviewID_idx=1580, recommendations=[Row(asin_idx=2243, rating=5.379284858703613), Row(asin_idx=1820, rating=4.989779472351074), Row(asin_idx=2001, rating=4.972285747528076), Row(asin_idx=1320, rating=4.971190929412842), Row(asin_idx=1985, rating=4.970786094665527), Row(asin_idx=1062, rating=4.949776649475098), Row(asin_idx=1030, rating=4.93527889251709), Row(asin_idx=2247, rating=4.914149761199951), Row(asin_idx=2141, rating=4.870896339416504), Row(asin_idx=1695, rating=4.861541748046875), Row(asin_idx=1899, rating=4.848489284515381), Row(asin_idx=2177, rating=4.817795753479004), Row(asin_idx=906, rating=4.793710708618164), Row(asin_idx=1309, rating=4.785304546356201), Row(asin_idx=2007, rating=4.7574968338012695), Row(asin_idx=1003, rating=4.6844892501831055), Row(asin_idx=2219, rating=4.652678489685059), Row(asin_idx=46, rating=4.622981548309326), Row(asin_idx=1217, rating=4.5997514724731445), Row(asin_idx=2333, rating=4.589977264404297)])\n",
      "\n",
      "\n",
      "Row(reviewID_idx=4900, recommendations=[Row(asin_idx=1985, rating=5.116479396820068), Row(asin_idx=1309, rating=4.984735488891602), Row(asin_idx=1841, rating=4.9053263664245605), Row(asin_idx=1734, rating=4.871829986572266), Row(asin_idx=2193, rating=4.868195533752441), Row(asin_idx=1917, rating=4.862735748291016), Row(asin_idx=1030, rating=4.847335338592529), Row(asin_idx=1683, rating=4.796009540557861), Row(asin_idx=2000, rating=4.79534387588501), Row(asin_idx=2317, rating=4.76452112197876), Row(asin_idx=2382, rating=4.761888027191162), Row(asin_idx=1738, rating=4.753162860870361), Row(asin_idx=1402, rating=4.7362446784973145), Row(asin_idx=1580, rating=4.731616020202637), Row(asin_idx=1624, rating=4.730451583862305), Row(asin_idx=2316, rating=4.716151714324951), Row(asin_idx=1728, rating=4.700830936431885), Row(asin_idx=2218, rating=4.700535774230957), Row(asin_idx=1474, rating=4.697393417358398), Row(asin_idx=2113, rating=4.6923675537109375)])\n",
      "\n",
      "\n",
      "Row(reviewID_idx=471, recommendations=[Row(asin_idx=1985, rating=5.933577060699463), Row(asin_idx=1780, rating=5.726141929626465), Row(asin_idx=1841, rating=5.671060562133789), Row(asin_idx=1728, rating=5.5731964111328125), Row(asin_idx=2258, rating=5.560884475708008), Row(asin_idx=2193, rating=5.548681259155273), Row(asin_idx=2000, rating=5.513155460357666), Row(asin_idx=2218, rating=5.507621765136719), Row(asin_idx=1474, rating=5.447006702423096), Row(asin_idx=2331, rating=5.393577575683594), Row(asin_idx=1356, rating=5.35257625579834), Row(asin_idx=1175, rating=5.327865123748779), Row(asin_idx=1734, rating=5.319003105163574), Row(asin_idx=901, rating=5.308156490325928), Row(asin_idx=1887, rating=5.305608749389648), Row(asin_idx=1888, rating=5.2966766357421875), Row(asin_idx=1106, rating=5.292930603027344), Row(asin_idx=1538, rating=5.290655136108398), Row(asin_idx=2078, rating=5.283751487731934), Row(asin_idx=1349, rating=5.2719407081604)])\n",
      "\n",
      "\n",
      "Row(reviewID_idx=1591, recommendations=[Row(asin_idx=1985, rating=6.840564727783203), Row(asin_idx=1309, rating=6.509512424468994), Row(asin_idx=2218, rating=6.45376443862915), Row(asin_idx=2295, rating=6.424602031707764), Row(asin_idx=2000, rating=6.385280609130859), Row(asin_idx=1841, rating=6.356780529022217), Row(asin_idx=1466, rating=6.343129634857178), Row(asin_idx=1984, rating=6.328115940093994), Row(asin_idx=2258, rating=6.316962718963623), Row(asin_idx=1546, rating=6.303605079650879), Row(asin_idx=1728, rating=6.233229637145996), Row(asin_idx=2340, rating=6.211678981781006), Row(asin_idx=1454, rating=6.201005935668945), Row(asin_idx=1901, rating=6.172901630401611), Row(asin_idx=1356, rating=6.161513805389404), Row(asin_idx=2379, rating=6.133874416351318), Row(asin_idx=2317, rating=6.122513771057129), Row(asin_idx=807, rating=6.111754417419434), Row(asin_idx=2193, rating=6.0864739418029785), Row(asin_idx=2195, rating=6.0774712562561035)])\n",
      "\n",
      "\n",
      "Row(reviewID_idx=4101, recommendations=[Row(asin_idx=1734, rating=5.6975789070129395), Row(asin_idx=2193, rating=5.548805236816406), Row(asin_idx=1727, rating=5.522642612457275), Row(asin_idx=1466, rating=5.5118584632873535), Row(asin_idx=1728, rating=5.39145040512085), Row(asin_idx=2223, rating=5.377717971801758), Row(asin_idx=1985, rating=5.370649337768555), Row(asin_idx=2218, rating=5.368492603302002), Row(asin_idx=768, rating=5.324914932250977), Row(asin_idx=2000, rating=5.281985282897949), Row(asin_idx=1266, rating=5.147228240966797), Row(asin_idx=2295, rating=5.102884769439697), Row(asin_idx=1775, rating=5.052028656005859), Row(asin_idx=1401, rating=5.051900386810303), Row(asin_idx=1663, rating=5.039192199707031), Row(asin_idx=1864, rating=5.032739639282227), Row(asin_idx=1106, rating=5.025786876678467), Row(asin_idx=1557, rating=5.015439987182617), Row(asin_idx=1841, rating=5.005280017852783), Row(asin_idx=1256, rating=4.993072986602783)])\n",
      "\n",
      "\n"
     ]
    }
   ],
   "source": [
    "for user in user_recs.head(5):\n",
    "    print(user)\n",
    "    print('\\n')"
   ]
  },
  {
   "cell_type": "markdown",
   "id": "d48563c5",
   "metadata": {},
   "source": [
    "### Create dataframe for result"
   ]
  },
  {
   "cell_type": "code",
   "execution_count": 25,
   "id": "3df02b10",
   "metadata": {},
   "outputs": [],
   "source": [
    "recs = model.recommendForAllUsers(10).toPandas()\n",
    "nrecs = recs.recommendations.apply(pd.Series)\\\n",
    "            .merge(recs, right_index = True, left_index = True)\\\n",
    "            .drop(['recommendations'], axis = 1)\\\n",
    "            .melt(id_vars = ['reviewID_idx'], value_name = 'recommendation')\\\n",
    "            .drop('variable', axis = 1)\\\n",
    "            .dropna()\n",
    "nrecs = nrecs.sort_values('reviewID_idx')\n",
    "nrecs = pd.concat([nrecs['recommendation'].apply(pd.Series),\n",
    "                  nrecs['reviewID_idx']], axis = 1)\n",
    "nrecs.columns = ['ProductID_index',\n",
    "                'Rating',\n",
    "                'UserID_index']"
   ]
  },
  {
   "cell_type": "code",
   "execution_count": 26,
   "id": "4aadd3f1",
   "metadata": {},
   "outputs": [
    {
     "name": "stderr",
     "output_type": "stream",
     "text": [
      "C:\\Users\\DELL\\AppData\\Local\\Temp/ipykernel_6656/4160922829.py:10: SettingWithCopyWarning: \n",
      "A value is trying to be set on a copy of a slice from a DataFrame.\n",
      "Try using .loc[row_indexer,col_indexer] = value instead\n",
      "\n",
      "See the caveats in the documentation: https://pandas.pydata.org/pandas-docs/stable/user_guide/indexing.html#returning-a-view-versus-a-copy\n",
      "  new['recommendations'] = list(zip(new.asin, new.Rating))\n"
     ]
    }
   ],
   "source": [
    "md = data_indexed.select(['reviewerID', 'reviewID_idx', 'asin', 'asin_idx'])\n",
    "md = md.toPandas()\n",
    "dict1 = dict(zip(md['reviewID_idx'], md['reviewerID']))\n",
    "dict2 = dict(zip(md['asin_idx'], md['asin']))\n",
    "nrecs['reviewerID'] = nrecs['UserID_index'].map(dict1)\n",
    "nrecs['asin'] = nrecs['ProductID_index'].map(dict2)\n",
    "nrecs = nrecs.sort_values('reviewerID')\n",
    "nrecs.reset_index(drop = True, inplace = True)\n",
    "new = nrecs[['reviewerID', 'asin', 'Rating']]\n",
    "new['recommendations'] = list(zip(new.asin, new.Rating))\n",
    "res = new[['reviewerID', 'recommendations']]\n",
    "res_new = res['recommendations'].groupby([res.reviewerID])\\\n",
    "                                .apply(list).reset_index()"
   ]
  },
  {
   "cell_type": "markdown",
   "id": "a19181bf",
   "metadata": {},
   "source": [
    "### Make recommendation for some specific Users\n",
    "A3CJ7MHAS9IMAM, A3LGT6UZL99IW1, A21KNRUAA5RK5E"
   ]
  },
  {
   "cell_type": "code",
   "execution_count": 27,
   "id": "d955234e",
   "metadata": {},
   "outputs": [
    {
     "data": {
      "text/html": [
       "<div>\n",
       "<style scoped>\n",
       "    .dataframe tbody tr th:only-of-type {\n",
       "        vertical-align: middle;\n",
       "    }\n",
       "\n",
       "    .dataframe tbody tr th {\n",
       "        vertical-align: top;\n",
       "    }\n",
       "\n",
       "    .dataframe thead th {\n",
       "        text-align: right;\n",
       "    }\n",
       "</style>\n",
       "<table border=\"1\" class=\"dataframe\">\n",
       "  <thead>\n",
       "    <tr style=\"text-align: right;\">\n",
       "      <th></th>\n",
       "      <th>reviewerID</th>\n",
       "      <th>recommendations</th>\n",
       "    </tr>\n",
       "  </thead>\n",
       "  <tbody>\n",
       "    <tr>\n",
       "      <th>0</th>\n",
       "      <td>A00473363TJ8YSZ3YAGG9</td>\n",
       "      <td>[(B003XR480U, 4.710568904876709), (B006OGBTWM,...</td>\n",
       "    </tr>\n",
       "    <tr>\n",
       "      <th>1</th>\n",
       "      <td>A04324702R5O7JRSQNVAH</td>\n",
       "      <td>[(B002YSPDJ4, 5.483543395996094), (B004JDI1I2,...</td>\n",
       "    </tr>\n",
       "    <tr>\n",
       "      <th>2</th>\n",
       "      <td>A0678500JUN3N7KUG4PS</td>\n",
       "      <td>[(B002YSPDJ4, 6.062443733215332), (B003XR480U,...</td>\n",
       "    </tr>\n",
       "    <tr>\n",
       "      <th>3</th>\n",
       "      <td>A100UD67AHFODS</td>\n",
       "      <td>[(B0049UCECE, 5.889972686767578), (B0076BXEVI,...</td>\n",
       "    </tr>\n",
       "    <tr>\n",
       "      <th>4</th>\n",
       "      <td>A100WO06OQR8BQ</td>\n",
       "      <td>[(B003XR480U, 6.8318562507629395), (B002JG10GG...</td>\n",
       "    </tr>\n",
       "    <tr>\n",
       "      <th>...</th>\n",
       "      <td>...</td>\n",
       "      <td>...</td>\n",
       "    </tr>\n",
       "    <tr>\n",
       "      <th>4900</th>\n",
       "      <td>AZQJ85BTRUQV2</td>\n",
       "      <td>[(B001A4QKMW, 6.2549285888671875), (B0050PNOUS...</td>\n",
       "    </tr>\n",
       "    <tr>\n",
       "      <th>4901</th>\n",
       "      <td>AZU2JDR2GVICQ</td>\n",
       "      <td>[(B003XR480U, 5.964960098266602), (B004JDI1I2,...</td>\n",
       "    </tr>\n",
       "    <tr>\n",
       "      <th>4902</th>\n",
       "      <td>AZYJE40XW6MFG</td>\n",
       "      <td>[(B000VKUXHY, 6.64094352722168), (B002IXKD9U, ...</td>\n",
       "    </tr>\n",
       "    <tr>\n",
       "      <th>4903</th>\n",
       "      <td>AZZ5ASC403N74</td>\n",
       "      <td>[(B001NIIDI4, 6.230529308319092), (B0002T4064,...</td>\n",
       "    </tr>\n",
       "    <tr>\n",
       "      <th>4904</th>\n",
       "      <td>AZZD30PYJVGI7</td>\n",
       "      <td>[(B00125Q75Y, 4.884044647216797), (B003XR480U,...</td>\n",
       "    </tr>\n",
       "  </tbody>\n",
       "</table>\n",
       "<p>4905 rows × 2 columns</p>\n",
       "</div>"
      ],
      "text/plain": [
       "                 reviewerID                                    recommendations\n",
       "0     A00473363TJ8YSZ3YAGG9  [(B003XR480U, 4.710568904876709), (B006OGBTWM,...\n",
       "1     A04324702R5O7JRSQNVAH  [(B002YSPDJ4, 5.483543395996094), (B004JDI1I2,...\n",
       "2      A0678500JUN3N7KUG4PS  [(B002YSPDJ4, 6.062443733215332), (B003XR480U,...\n",
       "3            A100UD67AHFODS  [(B0049UCECE, 5.889972686767578), (B0076BXEVI,...\n",
       "4            A100WO06OQR8BQ  [(B003XR480U, 6.8318562507629395), (B002JG10GG...\n",
       "...                     ...                                                ...\n",
       "4900          AZQJ85BTRUQV2  [(B001A4QKMW, 6.2549285888671875), (B0050PNOUS...\n",
       "4901          AZU2JDR2GVICQ  [(B003XR480U, 5.964960098266602), (B004JDI1I2,...\n",
       "4902          AZYJE40XW6MFG  [(B000VKUXHY, 6.64094352722168), (B002IXKD9U, ...\n",
       "4903          AZZ5ASC403N74  [(B001NIIDI4, 6.230529308319092), (B0002T4064,...\n",
       "4904          AZZD30PYJVGI7  [(B00125Q75Y, 4.884044647216797), (B003XR480U,...\n",
       "\n",
       "[4905 rows x 2 columns]"
      ]
     },
     "execution_count": 27,
     "metadata": {},
     "output_type": "execute_result"
    }
   ],
   "source": [
    "res_new"
   ]
  },
  {
   "cell_type": "code",
   "execution_count": 28,
   "id": "35702588",
   "metadata": {},
   "outputs": [],
   "source": [
    "pd.set_option('display.max_colwidth', None)"
   ]
  },
  {
   "cell_type": "code",
   "execution_count": 60,
   "id": "f7ba338d",
   "metadata": {},
   "outputs": [],
   "source": [
    "def customer_recommendation(customer_id):\n",
    "    recommend = res_new[res_new['reviewerID'] == customer_id]\n",
    "    for i in recommend['recommendations']:\n",
    "        print('List of product ID recommended:')\n",
    "        for j in i:\n",
    "            print(j[0])"
   ]
  },
  {
   "cell_type": "markdown",
   "id": "702689ac",
   "metadata": {},
   "source": [
    "Show the product IDrecommended for specific user."
   ]
  },
  {
   "cell_type": "code",
   "execution_count": 61,
   "id": "05e79061",
   "metadata": {},
   "outputs": [
    {
     "name": "stdout",
     "output_type": "stream",
     "text": [
      "List of product ID recommended:\n",
      "B0006HXQX0\n",
      "B006LNU00K\n",
      "B000VKUXHY\n",
      "B001CD9RYY\n",
      "B003XR480U\n",
      "B002JG10GG\n",
      "B0001XPC7C\n",
      "B003ZWHTMW\n",
      "B0076BXEVI\n",
      "B004JDI1I2\n"
     ]
    }
   ],
   "source": [
    "customer_recommendation('A3CJ7MHAS9IMAM')"
   ]
  },
  {
   "cell_type": "code",
   "execution_count": 62,
   "id": "96159009",
   "metadata": {},
   "outputs": [
    {
     "name": "stdout",
     "output_type": "stream",
     "text": [
      "List of product ID recommended:\n",
      "B002JG10GG\n",
      "B001NIIDI4\n",
      "B002R0DX0U\n",
      "B004JDI1I2\n",
      "B004GGMODU\n",
      "B000U5HZ12\n",
      "B004I2EE3K\n",
      "B0076BXEVI\n",
      "B003XR480U\n",
      "B000VKUXHY\n"
     ]
    }
   ],
   "source": [
    "customer_recommendation('A3LGT6UZL99IW1')"
   ]
  },
  {
   "cell_type": "code",
   "execution_count": 63,
   "id": "044a3c54",
   "metadata": {},
   "outputs": [
    {
     "name": "stdout",
     "output_type": "stream",
     "text": [
      "List of product ID recommended:\n",
      "B001167XXO\n",
      "B0002ZQAZW\n",
      "B003HD03IQ\n",
      "B002BA5WK0\n",
      "B004JDI1I2\n",
      "B003D7NSPG\n",
      "B004J2U12W\n",
      "B0006OKKN2\n",
      "B001A3XXV4\n",
      "B002YSPDJ4\n"
     ]
    }
   ],
   "source": [
    "customer_recommendation('A21KNRUAA5RK5E')"
   ]
  },
  {
   "cell_type": "code",
   "execution_count": null,
   "id": "7c0d5b25",
   "metadata": {},
   "outputs": [],
   "source": []
  }
 ],
 "metadata": {
  "kernelspec": {
   "display_name": "Python 3 (ipykernel)",
   "language": "python",
   "name": "python3"
  },
  "language_info": {
   "codemirror_mode": {
    "name": "ipython",
    "version": 3
   },
   "file_extension": ".py",
   "mimetype": "text/x-python",
   "name": "python",
   "nbconvert_exporter": "python",
   "pygments_lexer": "ipython3",
   "version": "3.8.10"
  }
 },
 "nbformat": 4,
 "nbformat_minor": 5
}
